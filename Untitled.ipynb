{
 "cells": [
  {
   "cell_type": "code",
   "execution_count": 39,
   "id": "d05e1314",
   "metadata": {
    "scrolled": true
   },
   "outputs": [],
   "source": [
    "from tkinter import*\n",
    "class Register:\n",
    "    def _init_(self,root):\n",
    "        self.root=root\n",
    "        self.root.title(\"Regstration Window\")\n",
    "        self.root.geometry(\"1350x700+0+0\")\n",
    "\n",
    "root=Tk()\n",
    "obj=Register(root)\n",
    "root.mainloop()"
   ]
  }
 ],
 "metadata": {
  "kernelspec": {
   "display_name": "Python 3",
   "language": "python",
   "name": "python3"
  },
  "language_info": {
   "codemirror_mode": {
    "name": "ipython",
    "version": 3
   },
   "file_extension": ".py",
   "mimetype": "text/x-python",
   "name": "python",
   "nbconvert_exporter": "python",
   "pygments_lexer": "ipython3",
   "version": "3.8.8"
  }
 },
 "nbformat": 4,
 "nbformat_minor": 5
}
